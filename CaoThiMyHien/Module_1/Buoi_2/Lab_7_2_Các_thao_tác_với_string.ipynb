{
  "cells": [
    {
      "cell_type": "markdown",
      "metadata": {
        "id": "uGGiSa1WIw-o"
      },
      "source": [
        "<h1>Lab 7.2 Các thao tác với string</h1>\n",
        "\n",
        "Thời lượng ước tính: **15** phút"
      ]
    },
    {
      "cell_type": "markdown",
      "metadata": {
        "id": "JNZdvQ57Iw-p"
      },
      "source": [
        "<p><strong>Xin chào!</strong> Notebook này sẽ dạy bạn về các thao tác với string (chuỗi) trong Ngôn ngữ lập trình Python. Ở phần cuối của notebook này, bạn sẽ biết các thao tác string cơ bản trong Python, bao gồm lập chỉ mục, escape sequence (dãy thoát) và các tác động đến string.</p>"
      ]
    },
    {
      "cell_type": "markdown",
      "metadata": {
        "id": "0kCVLxIfIw-p"
      },
      "source": [
        "<div class=\"alert alert-block alert-info\" style=\"margin-top: 20px\">\n",
        "    <a href=\"https://cocl.us/topNotebooksPython101Coursera\">\n",
        "         <img src=\"https://s3-api.us-geo.objectstorage.softlayer.net/cf-courses-data/CognitiveClass/PY0101EN/Ad/TopAd.png\" width=\"750\" align=\"center\">\n",
        "    </a>\n",
        "</div>"
      ]
    },
    {
      "cell_type": "markdown",
      "metadata": {
        "id": "Yn2X7jDFIw-q"
      },
      "source": [
        "<h2>Mục lục</h2>\n",
        "<div class=\"alert alert-block alert-info\" style=\"margin-top: 20px\">\n",
        "    <ul>\n",
        "        <li>\n",
        "            <a href=\"#strings\">String là gì?</a>\n",
        "        </li>\n",
        "        <li>\n",
        "            <a href=\"#index\">Indexing (Chỉ mục)</a>\n",
        "            <ul>\n",
        "                <li><a href=\"neg\">Chỉ mục âm</a></li>\n",
        "                <li><a href=\"slice\">Slicing</a></li>\n",
        "                <li><a href=\"stride\">Stride</a></li>\n",
        "                <li><a href=\"concat\">Nối String</a></li>\n",
        "            </ul>\n",
        "        </li>\n",
        "        <li>\n",
        "            <a href=\"#escape\">Escape Sequence</a>\n",
        "        </li>\n",
        "        <li>\n",
        "            <a href=\"#operations\">Thao tác với String</a>\n",
        "        </li>\n",
        "        <li>\n",
        "            <a href=\"#quiz\">Quiz về Strings</a>\n",
        "        </li>\n",
        "    </ul>\n",
        "    <p>\n",
        "        Thời lượng ước tính: <strong>15 phút</strong>\n",
        "    </p>\n",
        "</div>\n",
        "\n",
        "<hr>"
      ]
    },
    {
      "cell_type": "markdown",
      "metadata": {
        "id": "X9LLnH0fIw-q"
      },
      "source": [
        "<h2 id=\"strings\">String là gì?</h2>"
      ]
    },
    {
      "cell_type": "markdown",
      "metadata": {
        "id": "9Od13zsFIw-r"
      },
      "source": [
        "Ví dụ sau cho thấy một string chứa trong cặp dấu nháy kép:"
      ]
    },
    {
      "cell_type": "code",
      "execution_count": null,
      "metadata": {
        "id": "4SHlZ_3cIw-r",
        "colab": {
          "base_uri": "https://localhost:8080/",
          "height": 36
        },
        "outputId": "06a1168c-baae-4319-82ae-dd5284a6ad78"
      },
      "outputs": [
        {
          "output_type": "execute_result",
          "data": {
            "text/plain": [
              "'Michael Jackson'"
            ],
            "application/vnd.google.colaboratory.intrinsic+json": {
              "type": "string"
            }
          },
          "metadata": {},
          "execution_count": 1
        }
      ],
      "source": [
        "# Use quotation marks for defining string\n",
        "\n",
        "\"Michael Jackson\""
      ]
    },
    {
      "cell_type": "markdown",
      "metadata": {
        "id": "VRJWHtBvIw-s"
      },
      "source": [
        "Chúng ta cũng có thể sử dụng dấu nháy đơn:"
      ]
    },
    {
      "cell_type": "code",
      "execution_count": null,
      "metadata": {
        "id": "DEwLYbihIw-s",
        "colab": {
          "base_uri": "https://localhost:8080/",
          "height": 36
        },
        "outputId": "84f0f9b1-bd6d-4153-d2c9-7b43fb38657a"
      },
      "outputs": [
        {
          "output_type": "execute_result",
          "data": {
            "text/plain": [
              "'Michael Jackson'"
            ],
            "application/vnd.google.colaboratory.intrinsic+json": {
              "type": "string"
            }
          },
          "metadata": {},
          "execution_count": 2
        }
      ],
      "source": [
        "# Use single quotation marks for defining string\n",
        "\n",
        "'Michael Jackson'"
      ]
    },
    {
      "cell_type": "markdown",
      "metadata": {
        "id": "vM5sL0l9Iw-s"
      },
      "source": [
        "String có thể là sự kết hợp của khoảng trắng và chữ số:"
      ]
    },
    {
      "cell_type": "code",
      "execution_count": null,
      "metadata": {
        "id": "P5unS99wIw-s",
        "colab": {
          "base_uri": "https://localhost:8080/",
          "height": 36
        },
        "outputId": "624d4442-beb7-4ad2-c4be-bf7e4fddd7da"
      },
      "outputs": [
        {
          "output_type": "execute_result",
          "data": {
            "text/plain": [
              "'1 2 3 4 5 6 '"
            ],
            "application/vnd.google.colaboratory.intrinsic+json": {
              "type": "string"
            }
          },
          "metadata": {},
          "execution_count": 3
        }
      ],
      "source": [
        "# Digitals and spaces in string\n",
        "\n",
        "'1 2 3 4 5 6 '"
      ]
    },
    {
      "cell_type": "markdown",
      "metadata": {
        "id": "8AbVaxOhIw-t"
      },
      "source": [
        "String cũng có thể là sự kết hợp của các ký tự đặc biệt:"
      ]
    },
    {
      "cell_type": "code",
      "execution_count": null,
      "metadata": {
        "id": "0LbO6tgeIw-t",
        "colab": {
          "base_uri": "https://localhost:8080/",
          "height": 36
        },
        "outputId": "22507068-58a9-487b-f5cd-0bcae2779075"
      },
      "outputs": [
        {
          "output_type": "execute_result",
          "data": {
            "text/plain": [
              "'@#2_#]&*^%$'"
            ],
            "application/vnd.google.colaboratory.intrinsic+json": {
              "type": "string"
            }
          },
          "metadata": {},
          "execution_count": 4
        }
      ],
      "source": [
        "# Special characters in string\n",
        "\n",
        "'@#2_#]&*^%$'"
      ]
    },
    {
      "cell_type": "markdown",
      "metadata": {
        "id": "oxGsl71hIw-t"
      },
      "source": [
        "Chúng ta có thể in ra string sử dụng câu lệnh print:"
      ]
    },
    {
      "cell_type": "code",
      "execution_count": null,
      "metadata": {
        "id": "5OjWtNIPIw-t",
        "colab": {
          "base_uri": "https://localhost:8080/"
        },
        "outputId": "4f7ff41c-897f-4e35-a052-a91cbc2f0b97"
      },
      "outputs": [
        {
          "output_type": "stream",
          "name": "stdout",
          "text": [
            "hello!\n"
          ]
        }
      ],
      "source": [
        "# Print the string\n",
        "\n",
        "print(\"hello!\")"
      ]
    },
    {
      "cell_type": "markdown",
      "metadata": {
        "id": "-t2kWkMjIw-u"
      },
      "source": [
        "Chúng ta có thể liên kết hoặc gán string cho một biến khác:\n"
      ]
    },
    {
      "cell_type": "code",
      "execution_count": null,
      "metadata": {
        "id": "p2hY2mgkIw-u",
        "colab": {
          "base_uri": "https://localhost:8080/",
          "height": 36
        },
        "outputId": "761cfb38-53f1-4684-b90d-8f58357df675"
      },
      "outputs": [
        {
          "output_type": "execute_result",
          "data": {
            "text/plain": [
              "'Michael Jackson'"
            ],
            "application/vnd.google.colaboratory.intrinsic+json": {
              "type": "string"
            }
          },
          "metadata": {},
          "execution_count": 6
        }
      ],
      "source": [
        "# Assign string to variable\n",
        "\n",
        "Name = \"Michael Jackson\"\n",
        "Name"
      ]
    },
    {
      "cell_type": "markdown",
      "metadata": {
        "id": "K1ne2nJJIw-u"
      },
      "source": [
        "<hr>"
      ]
    },
    {
      "cell_type": "markdown",
      "metadata": {
        "id": "9cKf6pPsIw-u"
      },
      "source": [
        "<h2 id=\"index\">Chỉ mục</h2>"
      ]
    },
    {
      "cell_type": "markdown",
      "metadata": {
        "id": "wn-RdOJvIw-v"
      },
      "source": [
        "Sẽ rất hữu ích nếu coi string là một dãy có thứ tự. Mỗi phần tử trong dãy có thể được truy cập bằng cách sử dụng một chỉ số được biểu thị bằng mảng số:  "
      ]
    },
    {
      "cell_type": "markdown",
      "metadata": {
        "id": "A1Xygi5OIw-v"
      },
      "source": [
        "<img src=\"https://s3-api.us-geo.objectstorage.softlayer.net/cf-courses-data/CognitiveClass/PY0101EN/Chapter%201/Images/StringsIndex.png\" width=\"600\" align=\"center\" />"
      ]
    },
    {
      "cell_type": "markdown",
      "metadata": {
        "id": "9Vu5myzXIw-v"
      },
      "source": [
        "Chỉ mục đầu tiên có thể được truy cập như sau:"
      ]
    },
    {
      "cell_type": "markdown",
      "metadata": {
        "id": "87FzQ3w8Iw-v"
      },
      "source": [
        "<hr/>\n",
        "<div class=\"alert alert-success alertsuccess\" style=\"margin-top: 20px\">\n",
        "[Tip]: Bởi vì chỉ mục bắt đầu từ 0, có nghĩa là chỉ mục đầu tiên nằm trên chỉ mục 0.\n",
        "</div>\n",
        "<hr/>"
      ]
    },
    {
      "cell_type": "code",
      "execution_count": null,
      "metadata": {
        "id": "AiC3IP9-Iw-w",
        "outputId": "1840fbb8-05e8-48d3-b458-2d46c301cdc9"
      },
      "outputs": [
        {
          "name": "stdout",
          "output_type": "stream",
          "text": [
            "M\n"
          ]
        }
      ],
      "source": [
        "# Print the first element in the string\n",
        "\n",
        "print(Name[0])"
      ]
    },
    {
      "cell_type": "markdown",
      "metadata": {
        "id": "npSZD_6SIw-w"
      },
      "source": [
        "Chúng ta có thể truy cập chỉ mục 6:"
      ]
    },
    {
      "cell_type": "code",
      "execution_count": null,
      "metadata": {
        "id": "CwjqCofWIw-w",
        "outputId": "a04aad66-0fe7-495a-edc1-7ee295f2ca60"
      },
      "outputs": [
        {
          "name": "stdout",
          "output_type": "stream",
          "text": [
            "l\n"
          ]
        }
      ],
      "source": [
        "# Print the element on index 6 in the string\n",
        "\n",
        "print(Name[6])"
      ]
    },
    {
      "cell_type": "markdown",
      "metadata": {
        "id": "5NV5RJRoIw-w"
      },
      "source": [
        "Hơn nữa, chúng ta có thể truy cập chỉ mục thứ 13:"
      ]
    },
    {
      "cell_type": "code",
      "execution_count": null,
      "metadata": {
        "id": "Utjb2vKfIw-x",
        "outputId": "bd0adfc2-8c8f-4be8-a23f-773d5c687472"
      },
      "outputs": [
        {
          "name": "stdout",
          "output_type": "stream",
          "text": [
            "o\n"
          ]
        }
      ],
      "source": [
        "# Print the element on the 13th index in the string\n",
        "\n",
        "print(Name[13])"
      ]
    },
    {
      "cell_type": "markdown",
      "metadata": {
        "id": "gAHwanv4Iw-x"
      },
      "source": [
        "<h3 id=\"neg\">Chỉ mục âm</h3>"
      ]
    },
    {
      "cell_type": "markdown",
      "metadata": {
        "id": "QiVK3RtlIw-x"
      },
      "source": [
        " Chúng ta có thể dùng chỉ mục âm với string:"
      ]
    },
    {
      "cell_type": "markdown",
      "metadata": {
        "id": "D06mKfJUIw-x"
      },
      "source": [
        "<img src=\"https://s3-api.us-geo.objectstorage.softlayer.net/cf-courses-data/CognitiveClass/PY0101EN/Chapter%201/Images/StringsNeg.png\" width=\"600\" align=\"center\" />"
      ]
    },
    {
      "cell_type": "markdown",
      "metadata": {
        "id": "T2ezEC7sIw-x"
      },
      "source": [
        "Chỉ mục âm có thể giúp chúng ta đếm phần tử từ cuối string."
      ]
    },
    {
      "cell_type": "markdown",
      "metadata": {
        "id": "bhA18GRtIw-y"
      },
      "source": [
        "Phần tử cuối cùng được cho bởi chỉ mục -1:"
      ]
    },
    {
      "cell_type": "code",
      "execution_count": null,
      "metadata": {
        "id": "WVuMSryCIw-y",
        "outputId": "59195215-fd45-4cb5-fe43-61a0127585b7"
      },
      "outputs": [
        {
          "name": "stdout",
          "output_type": "stream",
          "text": [
            "n\n"
          ]
        }
      ],
      "source": [
        "# Print the last element in the string\n",
        "# Minus will be counted from the right side, start with -1\n",
        "print(Name[-1])"
      ]
    },
    {
      "cell_type": "markdown",
      "metadata": {
        "id": "I0LHZvdnIw-y"
      },
      "source": [
        "Phần tử đầu tiên có thể nhận được bằng chỉ mục -15:"
      ]
    },
    {
      "cell_type": "code",
      "execution_count": null,
      "metadata": {
        "id": "hHSpAEJPIw-y",
        "outputId": "c3f8dfe7-1598-458a-c128-7496346cebab"
      },
      "outputs": [
        {
          "name": "stdout",
          "output_type": "stream",
          "text": [
            "M\n"
          ]
        }
      ],
      "source": [
        "# Print the first element in the string\n",
        "\n",
        "print(Name[-15])"
      ]
    },
    {
      "cell_type": "markdown",
      "metadata": {
        "id": "paAlmQZqIw-y"
      },
      "source": [
        "Chúng ta có thể tìm số ký tự trong một string bằng cách sử dụng <code>len</code>, viết tắt của length:"
      ]
    },
    {
      "cell_type": "code",
      "execution_count": null,
      "metadata": {
        "id": "Vzx9VNcbIw-z",
        "outputId": "cb1de3e8-0f5c-4fdc-c57c-7317d5a1ba86"
      },
      "outputs": [
        {
          "data": {
            "text/plain": [
              "15"
            ]
          },
          "execution_count": 21,
          "metadata": {},
          "output_type": "execute_result"
        }
      ],
      "source": [
        "# Find the length of string\n",
        "\n",
        "len(\"Michael Jackson\")"
      ]
    },
    {
      "cell_type": "markdown",
      "metadata": {
        "id": "khQnYozQIw-z"
      },
      "source": [
        "<h3 id=\"slice\">Slicing</h3>"
      ]
    },
    {
      "cell_type": "markdown",
      "metadata": {
        "id": "4OjlgibjIw-z"
      },
      "source": [
        "Chúng ta có thể lấy nhiều ký tự từ một string bằng cách sử dụng slicing (lấy khoảng giá trị), chúng ta có thể lấy phần tử 0 đến 4 và 8 đến 12:  "
      ]
    },
    {
      "cell_type": "markdown",
      "metadata": {
        "id": "PFIZKA1WIw-z"
      },
      "source": [
        "<img src=\"https://s3-api.us-geo.objectstorage.softlayer.net/cf-courses-data/CognitiveClass/PY0101EN/Chapter%201/Images/StringsSlice.png\" width=\"600\" align=\"center\" />"
      ]
    },
    {
      "cell_type": "markdown",
      "metadata": {
        "id": "r3TWrnj7Iw-z"
      },
      "source": [
        "<hr/>\n",
        "<div class=\"alert alert-success alertsuccess\" style=\"margin-top: 20px\">\n",
        "[Tip]: Khi lấy khoảng giá trị, số đầu tiên là chỉ mục (bắt đầu từ 0) và số thứ hai là độ dài từ chỉ mục đến phần tử cuối cùng bạn muốn (bắt đầu từ 1)\n",
        "</div>\n",
        "<hr/>"
      ]
    },
    {
      "cell_type": "code",
      "execution_count": null,
      "metadata": {
        "id": "KJSXJ12IIw-0",
        "outputId": "fc191588-a355-48f9-fd6f-abad55d4c84b"
      },
      "outputs": [
        {
          "data": {
            "text/plain": [
              "'Mich'"
            ]
          },
          "execution_count": 22,
          "metadata": {},
          "output_type": "execute_result"
        }
      ],
      "source": [
        "# Take the slice on variable Name with only index 0 to index 3\n",
        "\n",
        "Name[0:4]"
      ]
    },
    {
      "cell_type": "code",
      "execution_count": null,
      "metadata": {
        "id": "6fD9vuG1Iw-0",
        "outputId": "121ba257-11b6-4ab3-8842-ed6409200e2c"
      },
      "outputs": [
        {
          "data": {
            "text/plain": [
              "'Jack'"
            ]
          },
          "execution_count": 23,
          "metadata": {},
          "output_type": "execute_result"
        }
      ],
      "source": [
        "# Take the slice on variable Name with only index 8 to index 11\n",
        "\n",
        "Name[8:12]"
      ]
    },
    {
      "cell_type": "markdown",
      "metadata": {
        "id": "S9A2Pc1wIw-0"
      },
      "source": [
        "<h3 id=\"stride\">Stride</h3>"
      ]
    },
    {
      "cell_type": "markdown",
      "metadata": {
        "id": "d_tYE51JIw-1"
      },
      "source": [
        "Chúng ta cũng có thể nhập giá trị stride như sau, với '2' cho biết rằng chúng ta đang chọn mọi biến thứ hai:"
      ]
    },
    {
      "cell_type": "markdown",
      "metadata": {
        "id": "46FHvY4vIw-1"
      },
      "source": [
        "<img src=\"https://s3-api.us-geo.objectstorage.softlayer.net/cf-courses-data/CognitiveClass/PY0101EN/Chapter%201/Images/StringsStride.png\" width=\"600\" align=\"center\" />"
      ]
    },
    {
      "cell_type": "code",
      "execution_count": null,
      "metadata": {
        "id": "8eay9_vHIw-1",
        "outputId": "29f3e582-8c5c-45e3-e92b-713579a2e5e5"
      },
      "outputs": [
        {
          "data": {
            "text/plain": [
              "'McalJcsn'"
            ]
          },
          "execution_count": 24,
          "metadata": {},
          "output_type": "execute_result"
        }
      ],
      "source": [
        "# Get every second element. The elments on index 1, 3, 5 ...\n",
        "# Just like spacing\n",
        "Name[::2]"
      ]
    },
    {
      "cell_type": "markdown",
      "metadata": {
        "id": "tw12GxokIw-1"
      },
      "source": [
        "Chúng ta cũng có thể kết hợp slicing với stride. Trong trường hợp này, chúng ta chọn năm phần tử đầu tiên và sau đó sử dụng stride:"
      ]
    },
    {
      "cell_type": "code",
      "execution_count": null,
      "metadata": {
        "id": "2lB3icdbIw-1",
        "outputId": "85891608-dbb6-4f2b-d2a4-1344467902fe"
      },
      "outputs": [
        {
          "data": {
            "text/plain": [
              "'Mca'"
            ]
          },
          "execution_count": 25,
          "metadata": {},
          "output_type": "execute_result"
        }
      ],
      "source": [
        "# Get every second element in the range from index 0 to index 4\n",
        "# Spacing 2, from 0 to 5\n",
        "Name[0:5:2]"
      ]
    },
    {
      "cell_type": "markdown",
      "metadata": {
        "id": "OD_cW3VUIw-2"
      },
      "source": [
        "<h3 id=\"concat\">Nối String</h3>"
      ]
    },
    {
      "cell_type": "markdown",
      "metadata": {
        "id": "mX8WG3T6Iw-2"
      },
      "source": [
        "Chúng ta có thể nối hoặc kết hợp các string bằng cách sử dụng các ký hiệu cộng và kết quả được một string mới là sự kết hợp của cả hai:\n"
      ]
    },
    {
      "cell_type": "code",
      "execution_count": null,
      "metadata": {
        "id": "DxCcpBUtIw-2",
        "outputId": "5da12f36-230f-46ae-e921-bfc2b1bb8943"
      },
      "outputs": [
        {
          "data": {
            "text/plain": [
              "'Michael Jacksonis the best'"
            ]
          },
          "execution_count": 26,
          "metadata": {},
          "output_type": "execute_result"
        }
      ],
      "source": [
        "# Concatenate two strings\n",
        "\n",
        "Statement = Name + \"is the best\"\n",
        "Statement"
      ]
    },
    {
      "cell_type": "markdown",
      "metadata": {
        "id": "Ui-R0Yz5Iw-2"
      },
      "source": [
        "Để sao chép các giá trị của một string, chúng ta chỉ cần nhân string với số lần chúng ta muốn sao chép nó. Trong trường hợp này là 3. Kết quả là một string mới, bao gồm 3 bản sao của string ban đầu:"
      ]
    },
    {
      "cell_type": "code",
      "execution_count": null,
      "metadata": {
        "id": "WYMq656gIw-3",
        "outputId": "1d59a0c1-a340-48d9-a362-add024bfa0f4"
      },
      "outputs": [
        {
          "data": {
            "text/plain": [
              "'Michael JacksonMichael JacksonMichael Jackson'"
            ]
          },
          "execution_count": 27,
          "metadata": {},
          "output_type": "execute_result"
        }
      ],
      "source": [
        "# Print the string for 3 times\n",
        "\n",
        "3 * \"Michael Jackson\""
      ]
    },
    {
      "cell_type": "markdown",
      "metadata": {
        "id": "0TZK6PUDIw-3"
      },
      "source": [
        "Bạn có thể tạo một string mới bằng cách đặt nó thành biến ban đầu. Được nối với một string mới, kết quả là string mới thay đổi từ Michael Jackson thành \"Michael Jackson is the best\".\n"
      ]
    },
    {
      "cell_type": "code",
      "execution_count": null,
      "metadata": {
        "id": "48GlcpNKIw-3",
        "outputId": "06193c48-5764-4a60-8bf0-2d5ac3c9015d"
      },
      "outputs": [
        {
          "data": {
            "text/plain": [
              "'Michael Jackson is the best'"
            ]
          },
          "execution_count": 28,
          "metadata": {},
          "output_type": "execute_result"
        }
      ],
      "source": [
        "# Concatenate strings\n",
        "\n",
        "Name = \"Michael Jackson\"\n",
        "Name = Name + \" is the best\"\n",
        "Name"
      ]
    },
    {
      "cell_type": "markdown",
      "metadata": {
        "id": "AY5D1ZUuIw-3"
      },
      "source": [
        "<hr>"
      ]
    },
    {
      "cell_type": "markdown",
      "metadata": {
        "id": "_7Y9c93GIw-4"
      },
      "source": [
        "<h2 id=\"escape\">Escape Sequence</h2>"
      ]
    },
    {
      "cell_type": "markdown",
      "metadata": {
        "id": "0TQHZ-qbIw-4"
      },
      "source": [
        "Dấu gạch chéo ngược biểu thị sự bắt đầu của escape sequence. Escape thể hiện rằng các string có thể khó nhập. Ví dụ, \\n đại diện cho một dòng mới. Đầu ra được đưa ra bởi một dòng mới sau khi bắt gặp \\n:"
      ]
    },
    {
      "cell_type": "code",
      "execution_count": null,
      "metadata": {
        "id": "pf_uGt7wIw-4",
        "outputId": "acc342f9-4b5c-49ea-b11a-558f38f1654e"
      },
      "outputs": [
        {
          "name": "stdout",
          "output_type": "stream",
          "text": [
            " Michael Jackson \n",
            " is the best\n"
          ]
        }
      ],
      "source": [
        "# New line escape sequence\n",
        "\n",
        "print(\" Michael Jackson \\n is the best\" )"
      ]
    },
    {
      "cell_type": "markdown",
      "metadata": {
        "id": "CkKvwn0AIw-4"
      },
      "source": [
        "Tương tự, \\t thể hiện một khoảng cách (tương tự tạo khoảng cách khi nhấn nút tab):"
      ]
    },
    {
      "cell_type": "code",
      "execution_count": null,
      "metadata": {
        "id": "oB1ekiRFIw-5",
        "outputId": "d7e0b119-0e80-4e5c-e91d-6b38eada3587"
      },
      "outputs": [
        {
          "name": "stdout",
          "output_type": "stream",
          "text": [
            " Michael Jackson \t is the best\n"
          ]
        }
      ],
      "source": [
        "# Tab escape sequence\n",
        "\n",
        "print(\" Michael Jackson \\t is the best\" )"
      ]
    },
    {
      "cell_type": "markdown",
      "metadata": {
        "id": "AqGNcZsXIw-5"
      },
      "source": [
        "Nếu bạn muốn đặt dấu gạch chéo ngược trong string của mình, hãy sử dụng dấu gạch chéo ngược kép:"
      ]
    },
    {
      "cell_type": "code",
      "execution_count": null,
      "metadata": {
        "id": "SGPbWHuPIw-5",
        "outputId": "ccf38cf0-60c9-4df4-b18b-71fe31f5398d"
      },
      "outputs": [
        {
          "name": "stdout",
          "output_type": "stream",
          "text": [
            " Michael Jackson \\ is the best\n"
          ]
        }
      ],
      "source": [
        "# Include back slash in string\n",
        "\n",
        "print(\" Michael Jackson \\\\ is the best\" )"
      ]
    },
    {
      "cell_type": "markdown",
      "metadata": {
        "id": "WZUly_-XIw-5"
      },
      "source": [
        "Chúng ta cũng có thể đặt \"r\" trước string để hiển thị dấu gạch chéo ngược:"
      ]
    },
    {
      "cell_type": "code",
      "execution_count": null,
      "metadata": {
        "id": "u9sGu58oIw-5",
        "outputId": "6b3f2381-29a8-4375-9da3-7c65ce80a4b8"
      },
      "outputs": [
        {
          "name": "stdout",
          "output_type": "stream",
          "text": [
            " Michael Jackson \\ is the best\n"
          ]
        }
      ],
      "source": [
        "# r will tell python that string will be display as raw string\n",
        "\n",
        "print(r\" Michael Jackson \\ is the best\" )"
      ]
    },
    {
      "cell_type": "markdown",
      "metadata": {
        "id": "P36EttTQIw-5"
      },
      "source": [
        "<hr>"
      ]
    },
    {
      "cell_type": "markdown",
      "metadata": {
        "id": "6F63b5w3Iw-6"
      },
      "source": [
        "<h2 id=\"operations\">Thao tác với String</h2>"
      ]
    },
    {
      "cell_type": "markdown",
      "metadata": {
        "id": "3RnqtPEcIw-6"
      },
      "source": [
        "Có nhiều phương thức thao tác string trong Python có thể sử dụng để thao tác dữ liệu. Chúng ta sẽ sử dụng một số thao tác string cơ bản trên dữ liệu."
      ]
    },
    {
      "cell_type": "markdown",
      "metadata": {
        "id": "BaWCH2j0Iw-6"
      },
      "source": [
        "Hãy thử phương thức <code>upper</code>; phương thức này chuyển đổi các ký tự chữ thường thành các ký tự viết hoa:"
      ]
    },
    {
      "cell_type": "code",
      "execution_count": null,
      "metadata": {
        "id": "ZGetfoNQIw-6",
        "outputId": "4a7b5c93-7158-4da0-de03-bfedaae217c9"
      },
      "outputs": [
        {
          "name": "stdout",
          "output_type": "stream",
          "text": [
            "before upper: Thriller is the sixth studio album\n",
            "After upper: THRILLER IS THE SIXTH STUDIO ALBUM\n"
          ]
        }
      ],
      "source": [
        "# Convert all the characters in string to upper case\n",
        "\n",
        "A = \"Thriller is the sixth studio album\"\n",
        "print(\"before upper:\", A)\n",
        "B = A.upper()\n",
        "print(\"After upper:\", B)"
      ]
    },
    {
      "cell_type": "markdown",
      "metadata": {
        "id": "hJhTt4drIw-6"
      },
      "source": [
        "Phương thức <code> replace</code> thay thế một phân đoạn của string, tức là thay một sub-string (chuỗi con) bằng một string mới. Chúng ta nhập phần của string muốn thay đổi. Đối số thứ hai là những gì chúng ta muốn trao đổi phân đoạn và kết quả được một string mới với phân đoạn đã thay đổi:\n"
      ]
    },
    {
      "cell_type": "code",
      "execution_count": null,
      "metadata": {
        "id": "tfbodP6DIw-7",
        "outputId": "8dfbd74e-332f-4806-d735-a82bc3493b99"
      },
      "outputs": [
        {
          "data": {
            "text/plain": [
              "'Janet Jackson is the best'"
            ]
          },
          "execution_count": 34,
          "metadata": {},
          "output_type": "execute_result"
        }
      ],
      "source": [
        "# Replace the old substring with the new target substring is the segment has been found in the string\n",
        "\n",
        "A = \"Michael Jackson is the best\"\n",
        "B = A.replace('Michael', 'Janet')\n",
        "B"
      ]
    },
    {
      "cell_type": "markdown",
      "metadata": {
        "id": "6e5ansgWIw-7"
      },
      "source": [
        "Phương thức <code> find</code> tìm một sub-string. Đối số là sub-string bạn muốn tìm và đầu ra là chỉ mục đầu tiên của dãy. Chúng ta có thể tìm thấy sub-string <code> jack</code> hoặc <code> el</code>."
      ]
    },
    {
      "cell_type": "markdown",
      "metadata": {
        "id": "90AycbCPIw-7"
      },
      "source": [
        "<img src=\"https://s3-api.us-geo.objectstorage.softlayer.net/cf-courses-data/CognitiveClass/PY0101EN/Chapter%201/Images/StringsFind.png\" width=\"600\" align=\"center\" />"
      ]
    },
    {
      "cell_type": "code",
      "execution_count": null,
      "metadata": {
        "id": "wVX-qvWuIw-7",
        "outputId": "fa810f3e-b703-44d5-9990-945b526e1d99"
      },
      "outputs": [
        {
          "data": {
            "text/plain": [
              "5"
            ]
          },
          "execution_count": 35,
          "metadata": {},
          "output_type": "execute_result"
        }
      ],
      "source": [
        "# Find the substring in the string. Only the index of the first elment of substring in string will be the output\n",
        "\n",
        "Name = \"Michael Jackson\"\n",
        "Name.find('el')"
      ]
    },
    {
      "cell_type": "code",
      "execution_count": null,
      "metadata": {
        "id": "fcXiifp7Iw-8",
        "outputId": "1a96d49a-9474-4ea3-85b0-58e9a9588882"
      },
      "outputs": [
        {
          "data": {
            "text/plain": [
              "8"
            ]
          },
          "execution_count": 36,
          "metadata": {},
          "output_type": "execute_result"
        }
      ],
      "source": [
        "# Find the substring in the string.\n",
        "\n",
        "Name.find('Jack')"
      ]
    },
    {
      "cell_type": "markdown",
      "metadata": {
        "id": "acNTCRWfIw-8"
      },
      "source": [
        "Nếu sub-string không nằm trong string thì kết quả đầu ra là phủ nhận. Ví dụ: string 'Jasdfasdasdf' không phải là sub-string:"
      ]
    },
    {
      "cell_type": "code",
      "execution_count": null,
      "metadata": {
        "id": "oSCgbSc_Iw-8",
        "colab": {
          "base_uri": "https://localhost:8080/"
        },
        "outputId": "94c54955-bf6c-45a3-e2dd-ab2e9c63eb94"
      },
      "outputs": [
        {
          "output_type": "execute_result",
          "data": {
            "text/plain": [
              "-1"
            ]
          },
          "metadata": {},
          "execution_count": 7
        }
      ],
      "source": [
        "# If cannot find the substring in the string\n",
        "\n",
        "Name.find('Jasdfasdasdf')"
      ]
    },
    {
      "cell_type": "markdown",
      "metadata": {
        "id": "XzmorhLpIw-8"
      },
      "source": [
        "<hr>"
      ]
    },
    {
      "cell_type": "markdown",
      "metadata": {
        "id": "U6_QvvNpIw-8"
      },
      "source": [
        "<h2 id=\"quiz\">Quiz về String</h2>"
      ]
    },
    {
      "cell_type": "markdown",
      "metadata": {
        "id": "b46a5K6JIw-9"
      },
      "source": [
        "Giá trị của biến <code>A</code> sau khi đoạn code sau được thực thi là bao nhiêu?"
      ]
    },
    {
      "cell_type": "code",
      "execution_count": null,
      "metadata": {
        "collapsed": true,
        "id": "PmeSA_ibIw-9",
        "colab": {
          "base_uri": "https://localhost:8080/"
        },
        "outputId": "58c3492a-eb74-452f-d587-d27b0ff66de0"
      },
      "outputs": [
        {
          "output_type": "execute_result",
          "data": {
            "text/plain": [
              "1"
            ]
          },
          "metadata": {},
          "execution_count": 10
        }
      ],
      "source": [
        "# Write your code below and press Shift+Enter to execute\n",
        "\n",
        "A = \"1\"\n",
        "1"
      ]
    },
    {
      "cell_type": "markdown",
      "metadata": {
        "id": "QTkF-dRAIw-9"
      },
      "source": [
        "Bấm vào <b>đây</b> để xem đáp án.\n",
        "\n",
        "<!-- Your answer is below:\n",
        "\"1\"\n",
        "-->"
      ]
    },
    {
      "cell_type": "markdown",
      "metadata": {
        "id": "Rpdfut1IIw-9"
      },
      "source": [
        "Giá trị của biến <code>B</code> sau khi đoạn code sau được thực thi là bao nhiêu?"
      ]
    },
    {
      "cell_type": "code",
      "execution_count": null,
      "metadata": {
        "collapsed": true,
        "id": "xBYdlk3IIw--",
        "colab": {
          "base_uri": "https://localhost:8080/"
        },
        "outputId": "d91890de-0db9-410b-ed5d-15c7c9db1bc1"
      },
      "outputs": [
        {
          "output_type": "execute_result",
          "data": {
            "text/plain": [
              "2"
            ]
          },
          "metadata": {},
          "execution_count": 11
        }
      ],
      "source": [
        "# Write your code below and press Shift+Enter to execute\n",
        "\n",
        "B = \"2\"\n",
        "2"
      ]
    },
    {
      "cell_type": "markdown",
      "metadata": {
        "id": "UY-gY25wIw--"
      },
      "source": [
        "Bấm vào <b>đây</b> để xem đáp án.\n",
        "\n",
        "<!-- Your answer is below:\n",
        "\"2\"\n",
        "-->"
      ]
    },
    {
      "cell_type": "markdown",
      "metadata": {
        "id": "P50XcZYiIw--"
      },
      "source": [
        "Giá trị của biến <code>C</code> sau khi đoạn code sau được thực thi là bao nhiêu?"
      ]
    },
    {
      "cell_type": "code",
      "execution_count": null,
      "metadata": {
        "id": "SxkNwck_Iw--",
        "colab": {
          "base_uri": "https://localhost:8080/",
          "height": 36
        },
        "outputId": "0b681b39-2187-4069-e05d-9a96cf42059f"
      },
      "outputs": [
        {
          "output_type": "execute_result",
          "data": {
            "text/plain": [
              "'12'"
            ],
            "application/vnd.google.colaboratory.intrinsic+json": {
              "type": "string"
            }
          },
          "metadata": {},
          "execution_count": 13
        }
      ],
      "source": [
        "# Write your code below and press Shift+Enter to execute\n",
        "\n",
        "C = A + B\n",
        "# 12 becaue of string\n",
        "C"
      ]
    },
    {
      "cell_type": "markdown",
      "metadata": {
        "id": "9HTHt4XNIw--"
      },
      "source": [
        "Bấm vào <b>đây</b> để xem đáp án.\n",
        "\n",
        "<!-- Your answer is below:\n",
        "\"12\"\n",
        "-->"
      ]
    },
    {
      "cell_type": "markdown",
      "metadata": {
        "id": "so_o6N_vIw-_"
      },
      "source": [
        "<hr>"
      ]
    },
    {
      "cell_type": "markdown",
      "metadata": {
        "id": "Y69Cg1mmIw-_"
      },
      "source": [
        "Hãy xem xét biến <code>D</code> sử dụng slicing để in ra ba phần tử đầu tiên:"
      ]
    },
    {
      "cell_type": "code",
      "execution_count": null,
      "metadata": {
        "id": "NXyOH5DBIw-_",
        "colab": {
          "base_uri": "https://localhost:8080/",
          "height": 36
        },
        "outputId": "74076916-331d-4ba9-87b3-5fe7e48571e7"
      },
      "outputs": [
        {
          "output_type": "execute_result",
          "data": {
            "text/plain": [
              "'ABC'"
            ],
            "application/vnd.google.colaboratory.intrinsic+json": {
              "type": "string"
            }
          },
          "metadata": {},
          "execution_count": 14
        }
      ],
      "source": [
        "# Write your code below and press Shift+Enter to execute\n",
        "\n",
        "D = \"ABCDEFG\"\n",
        "D[0:3]"
      ]
    },
    {
      "cell_type": "markdown",
      "metadata": {
        "id": "v65ABxrIIw-_"
      },
      "source": [
        "Bấm vào <b>đây</b> để xem đáp án.\n",
        "\n",
        "<!-- Your answer is below:\n",
        "print(D[:3])\n",
        "# or\n",
        "print(D[0:3])\n",
        "-->"
      ]
    },
    {
      "cell_type": "markdown",
      "metadata": {
        "id": "fZSH__R4Iw_A"
      },
      "source": [
        "<hr>"
      ]
    },
    {
      "cell_type": "markdown",
      "metadata": {
        "id": "a6zrw9gMIw_A"
      },
      "source": [
        "Sử dụng giá trị stride là 2 để in ra mọi ký tự thứ hai của string <code> E</code>:"
      ]
    },
    {
      "cell_type": "code",
      "execution_count": null,
      "metadata": {
        "collapsed": true,
        "id": "3-JnSe4IIw_A",
        "colab": {
          "base_uri": "https://localhost:8080/",
          "height": 36
        },
        "outputId": "4cd1fab4-6df5-46f9-b3d6-02d6d77f533b"
      },
      "outputs": [
        {
          "output_type": "execute_result",
          "data": {
            "text/plain": [
              "'correct'"
            ],
            "application/vnd.google.colaboratory.intrinsic+json": {
              "type": "string"
            }
          },
          "metadata": {},
          "execution_count": 15
        }
      ],
      "source": [
        "# Write your code below and press Shift+Enter to execute\n",
        "\n",
        "E = 'clocrkr1e1c1t'\n",
        "E[::2]"
      ]
    },
    {
      "cell_type": "markdown",
      "metadata": {
        "id": "BDDqb5BaIw_A"
      },
      "source": [
        "Bấm vào <b>đây</b> để xem đáp án.\n",
        "\n",
        "<!-- Your answer is below:\n",
        "print(E[::2])\n",
        "-->"
      ]
    },
    {
      "cell_type": "markdown",
      "metadata": {
        "id": "MnKTo6fEIw_A"
      },
      "source": [
        "<hr>"
      ]
    },
    {
      "cell_type": "markdown",
      "metadata": {
        "id": "Fai4oIdAIw_B"
      },
      "source": [
        "In ra dấu gạch chéo ngược:"
      ]
    },
    {
      "cell_type": "code",
      "execution_count": null,
      "metadata": {
        "id": "Z2nxzNA9Iw_B",
        "colab": {
          "base_uri": "https://localhost:8080/"
        },
        "outputId": "cfc4a8c3-b0f4-441d-d96f-8821db7b4e17"
      },
      "outputs": [
        {
          "output_type": "stream",
          "name": "stdout",
          "text": [
            "\\\n"
          ]
        }
      ],
      "source": [
        "# Write your code below and press Shift+Enter to execute\n",
        "print(\"\\\\\")"
      ]
    },
    {
      "cell_type": "markdown",
      "metadata": {
        "id": "DIV-AtW9Iw_B"
      },
      "source": [
        "Bấm vào <b>đây</b> để xem đáp án.\n",
        "<!-- Your answer is below:\n",
        "print(\"\\\\\")\n",
        "or\n",
        "print(r\" \\ \")\n",
        "-->"
      ]
    },
    {
      "cell_type": "markdown",
      "metadata": {
        "id": "RDRwV1xpIw_B"
      },
      "source": [
        "<hr>"
      ]
    },
    {
      "cell_type": "markdown",
      "metadata": {
        "id": "OwYFJAnOIw_B"
      },
      "source": [
        "Chuyển biến <code> F</code> thành chữ in hoa:"
      ]
    },
    {
      "cell_type": "code",
      "execution_count": null,
      "metadata": {
        "id": "zvKEodduIw_B",
        "colab": {
          "base_uri": "https://localhost:8080/",
          "height": 36
        },
        "outputId": "5669d62a-225b-4849-d2df-048ed31b8078"
      },
      "outputs": [
        {
          "output_type": "execute_result",
          "data": {
            "text/plain": [
              "'YOU ARE WRONG'"
            ],
            "application/vnd.google.colaboratory.intrinsic+json": {
              "type": "string"
            }
          },
          "metadata": {},
          "execution_count": 17
        }
      ],
      "source": [
        "# Write your code below and press Shift+Enter to execute\n",
        "\n",
        "F = \"You are wrong\"\n",
        "F.upper()"
      ]
    },
    {
      "cell_type": "markdown",
      "metadata": {
        "id": "N8rfPFkwIw_C"
      },
      "source": [
        "Bấm vào <b>đây</b> để xem đáp án.\n",
        "\n",
        "<!-- Your answer is below:\n",
        "F.upper()\n",
        "-->"
      ]
    },
    {
      "cell_type": "markdown",
      "metadata": {
        "id": "U8GHkYC1Iw_C"
      },
      "source": [
        "<hr>"
      ]
    },
    {
      "cell_type": "markdown",
      "metadata": {
        "id": "m_7cn2CzIw_C"
      },
      "source": [
        "Xem xét biến <code> G</code> và tìm chỉ mục đầu tiên của sub-string <code> snow</code>:"
      ]
    },
    {
      "cell_type": "code",
      "execution_count": null,
      "metadata": {
        "id": "QLWwZR32Iw_C",
        "colab": {
          "base_uri": "https://localhost:8080/"
        },
        "outputId": "ee52b5d4-041c-41f0-bd2e-acdd9e9dc24f"
      },
      "outputs": [
        {
          "output_type": "execute_result",
          "data": {
            "text/plain": [
              "95"
            ]
          },
          "metadata": {},
          "execution_count": 18
        }
      ],
      "source": [
        "# Write your code below and press Shift+Enter to execute\n",
        "\n",
        "G = \"Mary had a little lamb Little lamb, little lamb Mary had a little lamb \\\n",
        "Its fleece was white as snow And everywhere that Mary went Mary went, Mary went \\\n",
        "Everywhere that Mary went The lamb was sure to go\"\n",
        "G.find(\"snow\")"
      ]
    },
    {
      "cell_type": "markdown",
      "metadata": {
        "id": "pdTkRWvjIw_C"
      },
      "source": [
        "Bấm vào <b>đây</b> để xem đáp án.\n",
        "\n",
        "<!-- Your answer is below:\n",
        "G.find(\"snow\")\n",
        "-->"
      ]
    },
    {
      "cell_type": "markdown",
      "metadata": {
        "id": "qiPxnNyNIw_D"
      },
      "source": [
        "Trong biến <code> G</code>, thay thế sub-string <code> Mary</code> bằng <code> Bob</code>:"
      ]
    },
    {
      "cell_type": "code",
      "execution_count": null,
      "metadata": {
        "id": "Hju97S9IIw_D",
        "colab": {
          "base_uri": "https://localhost:8080/",
          "height": 53
        },
        "outputId": "56f44263-d84f-40f6-d8ea-81805c8d54c4"
      },
      "outputs": [
        {
          "output_type": "execute_result",
          "data": {
            "text/plain": [
              "'Bob had a little lamb Little lamb, little lamb Bob had a little lamb Its fleece was white as snow And everywhere that Bob went Bob went, Bob went Everywhere that Bob went The lamb was sure to go'"
            ],
            "application/vnd.google.colaboratory.intrinsic+json": {
              "type": "string"
            }
          },
          "metadata": {},
          "execution_count": 19
        }
      ],
      "source": [
        "# Write your code below and press Shift+Enter to execute\n",
        "G.replace(\"Mary\", \"Bob\")"
      ]
    },
    {
      "cell_type": "markdown",
      "metadata": {
        "id": "zZw6HaczIw_D"
      },
      "source": [
        "Bấm vào <b>đây</b> để xem đáp án.\n",
        "\n",
        "<!-- Your answer is below:\n",
        "G.replace(\"Mary\", \"Bob\")\n",
        "-->"
      ]
    },
    {
      "cell_type": "markdown",
      "metadata": {
        "id": "aPGavNMXIw_D"
      },
      "source": [
        "<hr>\n",
        "<p>Nguồn: IBM\n",
        "<hr>"
      ]
    }
  ],
  "metadata": {
    "colab": {
      "provenance": []
    },
    "kernelspec": {
      "display_name": "Python 3",
      "language": "python",
      "name": "python3"
    },
    "language_info": {
      "codemirror_mode": {
        "name": "ipython",
        "version": 3
      },
      "file_extension": ".py",
      "mimetype": "text/x-python",
      "name": "python",
      "nbconvert_exporter": "python",
      "pygments_lexer": "ipython3",
      "version": "3.9.16"
    }
  },
  "nbformat": 4,
  "nbformat_minor": 0
}