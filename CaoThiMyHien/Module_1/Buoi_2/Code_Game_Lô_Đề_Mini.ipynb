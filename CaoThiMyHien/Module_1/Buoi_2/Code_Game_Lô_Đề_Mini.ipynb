{
  "cells": [
    {
      "cell_type": "code",
      "execution_count": null,
      "metadata": {
        "id": "0spFUO6Gn-yX"
      },
      "outputs": [],
      "source": [
        "import random"
      ]
    },
    {
      "cell_type": "code",
      "execution_count": null,
      "metadata": {
        "id": "1ojFd_xb3hco"
      },
      "outputs": [],
      "source": [
        "### Tiền vốn bạn có hiện tại\n",
        "tong_tien = int(input(\"Vui lòng nhập tổng số tiền bạn có: \"))"
      ]
    },
    {
      "cell_type": "code",
      "execution_count": null,
      "metadata": {
        "id": "5JutRhZ2oSi6"
      },
      "outputs": [],
      "source": [
        "def quay_so():\n",
        "      # QUAY GIẢI NHẤT\n",
        "      GIAI_NHAT = random.randint(10,99)\n",
        "      # QUAY GIẢI NHÌ\n",
        "      GIAI_NHI = random.randint(10,99)\n",
        "      # QUAY GIẢI BA\n",
        "      GIAI_BA = random.randint(10,99)\n",
        "      # QUAY GIẢI TƯ\n",
        "      GIAI_TU = random.randint(10,99)\n",
        "      # QUAY GIẢI NĂM\n",
        "      GIAI_NAM = random.randint(10,99)\n",
        "      # QUAY GIẢI SÁU\n",
        "      GIAI_SAU = random.randint(10,99)\n",
        "      # QUAY GIẢI BẢY\n",
        "      GIAI_BAY = random.randint(10,99)\n",
        "      return GIAI_NHAT, GIAI_NHI, GIAI_BA, GIAI_TU, GIAI_NAM, GIAI_SAU, GIAI_BAY"
      ]
    },
    {
      "cell_type": "code",
      "execution_count": null,
      "metadata": {
        "id": "9jtfQe5ppplG"
      },
      "outputs": [],
      "source": [
        "def in_danh_sach_giai(danh_sach_giai):\n",
        "    # Truyền biến cục bộ giải để hiển thị số giải\n",
        "    giai = 1\n",
        "    for so in danh_sach_giai:\n",
        "        print(f\"Giai {giai}: {so}\")\n",
        "        giai += 1"
      ]
    },
    {
      "cell_type": "code",
      "execution_count": null,
      "metadata": {
        "id": "-JkWh3UArjHq"
      },
      "outputs": [],
      "source": [
        "def nhap_so_lo():\n",
        "  while True:\n",
        "    so_lo = input(\"Nhập số lô mà bạn muốn cược (10-99): \")\n",
        "    if so_lo.isdigit() and 10 <= int(so_lo) <= 99:\n",
        "      return int(so_lo)\n",
        "    else:\n",
        "      print(\"Nhập sai định dạng, vui lòng nhập lại!\")"
      ]
    },
    {
      "cell_type": "code",
      "execution_count": null,
      "metadata": {
        "colab": {
          "base_uri": "https://localhost:8080/"
        },
        "id": "6zkpCZEjryKr",
        "outputId": "924dc7df-6825-4d79-e578-e96c930cf739"
      },
      "outputs": [
        {
          "name": "stdout",
          "output_type": "stream",
          "text": [
            "Tổng tiền trong hàm =  200000000\n",
            "Tổng tiền ngoài hàm =  200000000\n"
          ]
        }
      ],
      "source": [
        "\n",
        "tong_tien = 100000000\n",
        "def tinh_tong_tien():\n",
        "  # Không cần gán lại giá trị tong tien nữa, chỉ cần báo đây là biến toàn cục\n",
        "  global tong_tien\n",
        "\n",
        "  tien_trung_giai = 100000000\n",
        "  tong_tien = tong_tien + tien_trung_giai\n",
        "  print(\"Tổng tiền trong hàm = \", tong_tien)\n",
        "tinh_tong_tien()\n",
        "# In tổng tiền ngoài hàm xem có khác gì không\n",
        "print(\"Tổng tiền ngoài hàm = \", tong_tien)"
      ]
    },
    {
      "cell_type": "code",
      "execution_count": null,
      "metadata": {
        "id": "GEvCunQmsZCm"
      },
      "outputs": [],
      "source": [
        "def nhap_tien_cuoc():\n",
        "  while True:\n",
        "      tien_cuoc = input(\"Nhập tiền cược mà bạn muốn cược (tiền cược < tổng tiền bạn có): \")\n",
        "      if tien_cuoc.isdigit() and int(tien_cuoc) < tong_tien:\n",
        "          return int(tien_cuoc)\n",
        "      else:\n",
        "          print(\"Nhập sai định dạng hoặc quá tổng tiền. Nhập lại\")"
      ]
    },
    {
      "cell_type": "code",
      "execution_count": null,
      "metadata": {
        "id": "raKvuXlduLZ4"
      },
      "outputs": [],
      "source": [
        "def game_quay_so(so_lo, tien_cuoc):\n",
        "  global tong_tien\n",
        "\n",
        "  danh_sach_giai = quay_so()\n",
        "  dem_so_lo = 0\n",
        "  print(f\"số lô bạn chơi là: {so_lo}\")\n",
        "  in_danh_sach_giai (danh_sach_giai)\n",
        "  for giai in danh_sach_giai:\n",
        "      if so_lo == giai:\n",
        "          dem_so_lo += 1\n",
        "  if dem_so_lo > 0:\n",
        "      tong_tien += (tien_cuoc * dem_so_lo) * 70\n",
        "      print (f\"Bạn đã trúng {dem_so_lo} nháy!\")\n",
        "      print(f\"số tiền bạn trúng là {(tien_cuoc * dem_so_lo) * 70}\")\n",
        "      print (f\"Tổng tiền bạn có là {tong_tien}\")\n",
        "  else:\n",
        "      print(\"Bạn đã thua lô!\")\n",
        "      tong_tien -= tien_cuoc\n",
        "      print(f\"Tổng tiền bạn còn là {tong_tien}\")"
      ]
    },
    {
      "cell_type": "code",
      "execution_count": null,
      "metadata": {
        "id": "O8gwumfQwhmV"
      },
      "outputs": [],
      "source": [
        "def nap_tien():\n",
        "  global tong_tien\n",
        "  while True:\n",
        "    tien_nap = int(input(\"Nhập số tiền mà bạn muốn nạp: \"))\n",
        "    tong_tien += tien_nap\n",
        "    print(f\"Tổng tiền sau khi bạn nạp là {tong_tien}\")\n",
        "    nap_tiep = int(input(\"Bạn có muốn nạp tiếp không? (0: không, 1: có)\"))\n",
        "    if nap_tiep == 0:\n",
        "        break\n",
        "    else:\n",
        "        continue"
      ]
    },
    {
      "cell_type": "code",
      "execution_count": null,
      "metadata": {
        "id": "ew0ke-wIy5wr"
      },
      "outputs": [],
      "source": [
        "from IPython.display import clear_output"
      ]
    },
    {
      "cell_type": "code",
      "execution_count": null,
      "metadata": {
        "id": "aBpUmD2axz4p"
      },
      "outputs": [],
      "source": [
        "def menu():\n",
        "    print(\"GAME LÔ ĐỀ HỌC\")\n",
        "    print(\"1. Chơi lô\")\n",
        "    print(\"2. Nạp tiền\")\n",
        "    print(\"3. Thoát game\")"
      ]
    },
    {
      "cell_type": "code",
      "execution_count": null,
      "metadata": {
        "id": "RGJALl11zPyH"
      },
      "outputs": [],
      "source": [
        "def main():\n",
        "    menu()\n",
        "    while True:\n",
        "        lua_chon = int(input(\"Bạn chọn: \"))\n",
        "        match lua_chon:\n",
        "            case 1:\n",
        "                clear_output()\n",
        "                while True:\n",
        "                    tien_cuoc = nhap_tien_cuoc()\n",
        "                    so_lo = nhap_so_lo()\n",
        "                    game_quay_so(so_lo, tien_cuoc)\n",
        "                    choi_tiep =  int(input(\"Bạn có muốn chơi tiếp không? (0: không, 1: có)\"))\n",
        "                    if choi_tiep == 0:\n",
        "                        break\n",
        "                clear_output(wait=True)\n",
        "                main()\n",
        "                break\n",
        "            case 2:\n",
        "                clear_output()\n",
        "                nap_tien()\n",
        "                clear_output(wait=True)\n",
        "                main()\n",
        "                break\n",
        "            case 3:\n",
        "                print(\"Chào bạn, hẹn gặp lại!\")\n",
        "                break\n",
        "            case _:\n",
        "                print(\"Nhập sai lựa chọn, vui lòng nhập lại !\")"
      ]
    },
    {
      "cell_type": "code",
      "execution_count": null,
      "metadata": {
        "colab": {
          "background_save": true,
          "base_uri": "https://localhost:8080/"
        },
        "id": "67KCvbj00YTq",
        "outputId": "80a7b49c-8d6a-4912-9236-f845c1759ac8"
      },
      "outputs": [
        {
          "name": "stdout",
          "output_type": "stream",
          "text": [
            "số lô bạn chơi là: 54\n",
            "Giai 1: 38\n",
            "Giai 2: 69\n",
            "Giai 3: 72\n",
            "Giai 4: 55\n",
            "Giai 5: 78\n",
            "Giai 6: 68\n",
            "Giai 7: 60\n",
            "Bạn đã thua lô!\n",
            "Tổng tiền bạn còn là 199000000\n",
            "số lô bạn chơi là: 53\n",
            "Giai 1: 52\n",
            "Giai 2: 54\n",
            "Giai 3: 39\n",
            "Giai 4: 45\n",
            "Giai 5: 20\n",
            "Giai 6: 51\n",
            "Giai 7: 67\n",
            "Bạn đã thua lô!\n",
            "Tổng tiền bạn còn là 198990000\n"
          ]
        }
      ],
      "source": [
        "main()"
      ]
    }
  ],
  "metadata": {
    "colab": {
      "provenance": []
    },
    "kernelspec": {
      "display_name": "Python 3",
      "name": "python3"
    },
    "language_info": {
      "name": "python"
    }
  },
  "nbformat": 4,
  "nbformat_minor": 0
}